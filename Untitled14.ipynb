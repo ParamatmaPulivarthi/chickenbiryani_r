{
 "cells": [
  {
   "cell_type": "code",
   "execution_count": null,
   "id": "f39bc4af",
   "metadata": {},
   "outputs": [],
   "source": [
    "# sql query\n",
    "\n",
    "MPC_WORK_SQL=\"\""
   ]
  },
  {
   "cell_type": "code",
   "execution_count": null,
   "id": "e4e91977",
   "metadata": {},
   "outputs": [],
   "source": [
    "\n",
    "MPC_WORK_COL=['PRODUCT_SERVICE_ID','EFF_DATE']\n"
   ]
  },
  {
   "cell_type": "code",
   "execution_count": null,
   "id": "3ab1fb8c",
   "metadata": {},
   "outputs": [],
   "source": [
    "\n",
    "HIST_PHARMACY_CLAIM_OTH_ACC_COL=['ADJUD_GROUP_OPERATION_ID','CLIENT_MEMBERSHIP_ID','EXTERNAL_SRC_IND','RX']\n"
   ]
  },
  {
   "cell_type": "code",
   "execution_count": null,
   "id": "8eab8fa2",
   "metadata": {},
   "outputs": [],
   "source": [
    "HIST_PHARMACY_CLAIM_ODD_ACC_COL=['ADJUD_GROUP_OPERATION_ID','CLIENT_MEMBERSHIP_ID']"
   ]
  },
  {
   "cell_type": "code",
   "execution_count": null,
   "id": "0114995d",
   "metadata": {},
   "outputs": [],
   "source": [
    "MPC_WORK=pd.read_sql(MPC_WORK_SQL,connection_string)\n",
    "MPC_WORK.Ccolumns=MPC_WORK_COL\n"
   ]
  },
  {
   "cell_type": "code",
   "execution_count": null,
   "id": "b97dd2d1",
   "metadata": {},
   "outputs": [],
   "source": [
    "MPC_WORK.SHAPE"
   ]
  },
  {
   "cell_type": "code",
   "execution_count": null,
   "id": "5992cfea",
   "metadata": {},
   "outputs": [],
   "source": [
    "LEN(MPC_WORK_COL)"
   ]
  },
  {
   "cell_type": "code",
   "execution_count": null,
   "id": "3e5074a0",
   "metadata": {},
   "outputs": [],
   "source": [
    "HIST_PHARMACY_CLAIM_OTH_ACC=pd.read_sql(MPC_WORK_SQL,connection_string)\n",
    "HIST_PHARMACY_CLAIM_OTH_ACC.columns=HIST_PHARMACY_CLAIM_OTH_ACC_COL\n"
   ]
  },
  {
   "cell_type": "code",
   "execution_count": null,
   "id": "6e37f076",
   "metadata": {},
   "outputs": [],
   "source": [
    "HIST_PHARMACY_CLAIM_DOD_ACC=pd.read_sql(MPC_WORK_SQL,connection_string)\n",
    "HIST_PHARMACY_CLAIM_OTH_ACC.columns=HIST_PHARMACY_CLAIM_OTH_ACC_COL\n"
   ]
  }
 ],
 "metadata": {
  "kernelspec": {
   "display_name": "Python 3 (ipykernel)",
   "language": "python",
   "name": "python3"
  },
  "language_info": {
   "codemirror_mode": {
    "name": "ipython",
    "version": 3
   },
   "file_extension": ".py",
   "mimetype": "text/x-python",
   "name": "python",
   "nbconvert_exporter": "python",
   "pygments_lexer": "ipython3",
   "version": "3.10.9"
  }
 },
 "nbformat": 4,
 "nbformat_minor": 5
}
